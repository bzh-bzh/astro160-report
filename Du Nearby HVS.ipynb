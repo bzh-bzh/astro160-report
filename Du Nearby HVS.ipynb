{
 "cells": [
  {
   "cell_type": "code",
   "execution_count": 1,
   "metadata": {},
   "outputs": [
    {
     "name": "stdout",
     "output_type": "stream",
     "text": [
      "Populating the interactive namespace from numpy and matplotlib\n"
     ]
    }
   ],
   "source": [
    "%pylab inline\n",
    "\n",
    "import pandas as pd"
   ]
  },
  {
   "cell_type": "code",
   "execution_count": 2,
   "metadata": {},
   "outputs": [],
   "source": [
    "du_table = {\n",
    "    # HVS candidates from Du et al. 99% probability of being unbound.\n",
    "    # Tuples are d (kpc), r_gc (kpc), v_gc (km/s).\n",
    "    6698855754225352192: (2.11, 6.44, 717),\n",
    "    3593446274383096448: (3.26, 8.77, 734),\n",
    "    4119670443586493184: (0.28, 7.93, 670),\n",
    "    1842456376310935552: (1.09, 7.87, 824),\n",
    "    4396109004117478656: (0.47, 7.81, 728),\n",
    "    4912074832815572224: (0.63, 8.14, 756),\n",
    "    4119759641435130624: (0.24, 7.96, 663),\n",
    "    4065092915465740160: (0.17, 8.03, 621),\n",
    "    2946665465655257472: (3.26, 10.65, 810),\n",
    "    4467323685050696960: (5.58, 6.39, 819),\n",
    "    3841458366321558656: (2.63, 9.77, 840),\n",
    "    2655054950237153664: (1.55, 8.07, 621),\n",
    "    4062943374550066560: (0.11, 8.09, 589),\n",
    "    4121504428896960640: (0.12, 8.08, 648),\n",
    "    2047267531138612864: (1.5, 7.78, 748),\n",
    "    4050754184394584192: (0.28, 7.92, 656),\n",
    "    2525871954701579904: (0.59, 8.34, 636),\n",
    "    3685380427311132160: (1.36, 7.91, 761),\n",
    "    4050705707044344832: (0.24, 7.96, 685),\n",
    "    4052470217026086144: (0.2, 8.0, 772),\n",
    "    4055741088022263680: (6.69, 7.51, 751),\n",
    "    4057367235624058240: (0.2, 8.0, 711),\n",
    "    4062949009547937152: (0.49, 7.71, 708),\n",
    "    4063041295654767488: (0.29, 7.91, 1142),\n",
    "    4063270135632421888: (0.24, 7.96, 751),\n",
    "    4068950625022563584: (0.06, 8.14, 611),\n",
    "    1820931585123817728: (1.8, 7.3, 1319),\n",
    "    6097052289696317952: (5.1, 6.0, 1407),\n",
    "}\n",
    "\n",
    "du_ids = [str(id) for id in du_table.keys()]"
   ]
  },
  {
   "cell_type": "code",
   "execution_count": 3,
   "metadata": {},
   "outputs": [],
   "source": [
    "data = pd.read_pickle('du_data.pickle')"
   ]
  },
  {
   "cell_type": "code",
   "execution_count": 4,
   "metadata": {},
   "outputs": [],
   "source": [
    "# Augment the data with distances from solar system, galactic center distances, and velocities.\n",
    "\n",
    "data['d_corrected'] = 0\n",
    "data['gc_radius_corrected'] = 0\n",
    "data['gc_velocity_corrected'] = 0\n",
    "\n",
    "for source_id in du_table:\n",
    "    data.loc[data.source_id == source_id, 'd_corrected'] = du_table[source_id][0]\n",
    "    data.loc[data.source_id == source_id, 'gc_radius_corrected'] = du_table[source_id][1]\n",
    "    data.loc[data.source_id == source_id, 'gc_velocity_corrected'] = du_table[source_id][2]"
   ]
  },
  {
   "cell_type": "code",
   "execution_count": 5,
   "metadata": {},
   "outputs": [
    {
     "data": {
      "text/plain": [
       "Index(['solution_id', 'designation', 'source_id', 'random_index', 'ref_epoch',\n",
       "       'ra', 'ra_error', 'dec', 'dec_error', 'parallax', 'parallax_error',\n",
       "       'parallax_over_error', 'pmra', 'pmra_error', 'pmdec', 'pmdec_error',\n",
       "       'ra_dec_corr', 'ra_parallax_corr', 'ra_pmra_corr', 'ra_pmdec_corr',\n",
       "       'dec_parallax_corr', 'dec_pmra_corr', 'dec_pmdec_corr',\n",
       "       'parallax_pmra_corr', 'parallax_pmdec_corr', 'pmra_pmdec_corr',\n",
       "       'astrometric_n_obs_al', 'astrometric_n_obs_ac',\n",
       "       'astrometric_n_good_obs_al', 'astrometric_n_bad_obs_al',\n",
       "       'astrometric_gof_al', 'astrometric_chi2_al', 'astrometric_excess_noise',\n",
       "       'astrometric_excess_noise_sig', 'astrometric_params_solved',\n",
       "       'astrometric_primary_flag', 'astrometric_weight_al',\n",
       "       'astrometric_pseudo_colour', 'astrometric_pseudo_colour_error',\n",
       "       'mean_varpi_factor_al', 'astrometric_matched_observations',\n",
       "       'visibility_periods_used', 'astrometric_sigma5d_max',\n",
       "       'frame_rotator_object_type', 'matched_observations',\n",
       "       'duplicated_source', 'phot_g_n_obs', 'phot_g_mean_flux',\n",
       "       'phot_g_mean_flux_error', 'phot_g_mean_flux_over_error',\n",
       "       'phot_g_mean_mag', 'phot_bp_n_obs', 'phot_bp_mean_flux',\n",
       "       'phot_bp_mean_flux_error', 'phot_bp_mean_flux_over_error',\n",
       "       'phot_bp_mean_mag', 'phot_rp_n_obs', 'phot_rp_mean_flux',\n",
       "       'phot_rp_mean_flux_error', 'phot_rp_mean_flux_over_error',\n",
       "       'phot_rp_mean_mag', 'phot_bp_rp_excess_factor', 'phot_proc_mode',\n",
       "       'bp_rp', 'bp_g', 'g_rp', 'radial_velocity', 'radial_velocity_error',\n",
       "       'rv_nb_transits', 'rv_template_teff', 'rv_template_logg',\n",
       "       'rv_template_fe_h', 'phot_variable_flag', 'l', 'b', 'ecl_lon',\n",
       "       'ecl_lat', 'priam_flags', 'teff_val', 'teff_percentile_lower',\n",
       "       'teff_percentile_upper', 'a_g_val', 'a_g_percentile_lower',\n",
       "       'a_g_percentile_upper', 'e_bp_min_rp_val',\n",
       "       'e_bp_min_rp_percentile_lower', 'e_bp_min_rp_percentile_upper',\n",
       "       'flame_flags', 'radius_val', 'radius_percentile_lower',\n",
       "       'radius_percentile_upper', 'lum_val', 'lum_percentile_lower',\n",
       "       'lum_percentile_upper', 'datalink_url', 'epoch_photometry_url',\n",
       "       'd_corrected', 'gc_radius_corrected', 'gc_velocity_corrected'],\n",
       "      dtype='object')"
      ]
     },
     "execution_count": 5,
     "metadata": {},
     "output_type": "execute_result"
    }
   ],
   "source": [
    "data.columns"
   ]
  },
  {
   "cell_type": "code",
   "execution_count": 6,
   "metadata": {},
   "outputs": [
    {
     "data": {
      "text/plain": [
       "0     1.80\n",
       "1     1.09\n",
       "2     1.50\n",
       "3     0.59\n",
       "4     1.55\n",
       "5     3.26\n",
       "6     3.26\n",
       "7     1.36\n",
       "8     2.63\n",
       "9     0.24\n",
       "10    0.28\n",
       "11    0.20\n",
       "12    6.69\n",
       "13    0.20\n",
       "14    0.11\n",
       "15    0.49\n",
       "16    0.29\n",
       "17    0.24\n",
       "18    0.17\n",
       "19    0.06\n",
       "20    0.28\n",
       "21    0.24\n",
       "22    0.12\n",
       "23    0.47\n",
       "24    5.58\n",
       "25    0.63\n",
       "26    5.10\n",
       "27    2.11\n",
       "Name: d_corrected, dtype: float64"
      ]
     },
     "execution_count": 6,
     "metadata": {},
     "output_type": "execute_result"
    }
   ],
   "source": [
    "data['d_corrected']"
   ]
  },
  {
   "cell_type": "code",
   "execution_count": 7,
   "metadata": {},
   "outputs": [
    {
     "data": {
      "text/plain": [
       "<matplotlib.collections.PathCollection at 0x2aaadbadcf60>"
      ]
     },
     "execution_count": 7,
     "metadata": {},
     "output_type": "execute_result"
    },
    {
     "data": {
      "image/png": "[encoded data removed]",
      "text/plain": [
       "<Figure size 432x288 with 1 Axes>"
      ]
     },
     "metadata": {
      "needs_background": "light"
     },
     "output_type": "display_data"
    }
   ],
   "source": [
    "plt.scatter(data['d_corrected'], data['gc_velocity_corrected'])"
   ]
  },
  {
   "cell_type": "code",
   "execution_count": null,
   "metadata": {},
   "outputs": [],
   "source": []
  }
 ],
 "metadata": {
  "kernelspec": {
   "display_name": "Python [conda env:.conda-astro160-report]",
   "language": "python",
   "name": "conda-env-.conda-astro160-report-py"
  },
  "language_info": {
   "codemirror_mode": {
    "name": "ipython",
    "version": 3
   },
   "file_extension": ".py",
   "mimetype": "text/x-python",
   "name": "python",
   "nbconvert_exporter": "python",
   "pygments_lexer": "ipython3",
   "version": "3.5.6"
  }
 },
 "nbformat": 4,
 "nbformat_minor": 4
}
