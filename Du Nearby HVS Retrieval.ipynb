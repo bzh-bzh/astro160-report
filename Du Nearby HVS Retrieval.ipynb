{
 "cells": [
  {
   "cell_type": "code",
   "execution_count": 3,
   "metadata": {},
   "outputs": [],
   "source": [
    "from astroquery.gaia import Gaia\n"
   ]
  },
  {
   "cell_type": "code",
   "execution_count": 4,
   "metadata": {},
   "outputs": [],
   "source": [
    "du_table = {\n",
    "    # HVS candidates from Du et al. 99% probability of being unbound.\n",
    "    # Tuples are d (kpc), r_gc (kpc), v_gc (km/s).\n",
    "    6698855754225352192: (2.11, 6.44, 717),\n",
    "    3593446274383096448: (3.26, 8.77, 734),\n",
    "    4119670443586493184: (0.28, 7.93, 670),\n",
    "    1842456376310935552: (1.09, 7.87, 824),\n",
    "    4396109004117478656: (0.47, 7.81, 728),\n",
    "    4912074832815572224: (0.63, 8.14, 756),\n",
    "    4119759641435130624: (0.24, 7.96, 663),\n",
    "    4065092915465740160: (0.17, 8.03, 621),\n",
    "    2946665465655257472: (3.26, 10.65, 810),\n",
    "    4467323685050696960: (5.58, 6.39, 819),\n",
    "    3841458366321558656: (2.63, 9.77, 840),\n",
    "    2655054950237153664: (1.55, 8.07, 621),\n",
    "    4062943374550066560: (0.11, 8.09, 589),\n",
    "    4121504428896960640: (0.12, 8.08, 648),\n",
    "    2047267531138612864: (1.5, 7.78, 748),\n",
    "    4050754184394584192: (0.28, 7.92, 656),\n",
    "    2525871954701579904: (0.59, 8.34, 636),\n",
    "    3685380427311132160: (1.36, 7.91, 761),\n",
    "    4050705707044344832: (0.24, 7.96, 685),\n",
    "    4052470217026086144: (0.2, 8.0, 772),\n",
    "    4055741088022263680: (6.69, 7.51, 751),\n",
    "    4057367235624058240: (0.2, 8.0, 711),\n",
    "    4062949009547937152: (0.49, 7.71, 708),\n",
    "    4063041295654767488: (0.29, 7.91, 1142),\n",
    "    4063270135632421888: (0.24, 7.96, 751),\n",
    "    4068950625022563584: (0.06, 8.14, 611),\n",
    "    1820931585123817728: (1.8, 7.3, 1319),\n",
    "    6097052289696317952: (5.1, 6.0, 1407),\n",
    "}\n",
    "\n",
    "du_ids = [str(id) for id in du_table.keys()]"
   ]
  },
  {
   "cell_type": "code",
   "execution_count": 5,
   "metadata": {},
   "outputs": [
    {
     "name": "stdout",
     "output_type": "stream",
     "text": [
      "SELECT * FROM gaiadr2.gaia_source WHERE source_id IN (1842456376310935552,3593446274383096448,6698855754225352192,4063270135632421888,4050705707044344832,3841458366321558656,4052470217026086144,4912074832815572224,4065092915465740160,4062943374550066560,6097052289696317952,3685380427311132160,2525871954701579904,4121504428896960640,4055741088022263680,4396109004117478656,4062949009547937152,4050754184394584192,4467323685050696960,2946665465655257472,4068950625022563584,4063041295654767488,1820931585123817728,2047267531138612864,2655054950237153664,4119670443586493184,4057367235624058240,4119759641435130624)\n"
     ]
    },
    {
     "name": "stderr",
     "output_type": "stream",
     "text": [
      "WARNING: W35: None:5:0: W35: 'value' attribute required for INFO elements [astropy.io.votable.tree]\n",
      "WARNING: W35: None:6:0: W35: 'value' attribute required for INFO elements [astropy.io.votable.tree]\n",
      "WARNING: W35: None:7:0: W35: 'value' attribute required for INFO elements [astropy.io.votable.tree]\n",
      "WARNING: W35: None:8:0: W35: 'value' attribute required for INFO elements [astropy.io.votable.tree]\n",
      "WARNING: W35: None:10:0: W35: 'value' attribute required for INFO elements [astropy.io.votable.tree]\n",
      "WARNING: W27: None:11:0: W27: COOSYS deprecated in VOTable 1.2 [astropy.io.votable.tree]\n",
      "WARNING: W06: None:47:0: W06: Invalid UCD 'arith.ratio': Secondary word 'arith.ratio' is not valid as a primary word [astropy.io.votable.tree]\n",
      "WARNING: W50: None:50:0: W50: Invalid unit string 'mas.yr**-1' [astropy.io.votable.tree]\n",
      "WARNING: W50: None:53:0: W50: Invalid unit string 'mas.yr**-1' [astropy.io.votable.tree]\n",
      "WARNING: W50: None:56:0: W50: Invalid unit string 'mas.yr**-1' [astropy.io.votable.tree]\n",
      "WARNING: W50: None:59:0: W50: Invalid unit string 'mas.yr**-1' [astropy.io.votable.tree]\n",
      "WARNING: W50: None:122:0: W50: Invalid unit string 'mas**-2' [astropy.io.votable.tree]\n",
      "WARNING: W50: None:125:0: W50: Invalid unit string 'um**-1' [astropy.io.votable.tree]\n",
      "WARNING: W06: None:128:0: W06: Invalid UCD 'em.wavenumber;stat.error': Primary word 'stat.error' is not valid as a secondary word [astropy.io.votable.tree]\n",
      "WARNING: W50: None:128:0: W50: Invalid unit string 'um**-1' [astropy.io.votable.tree]\n",
      "WARNING: W06: None:140:0: W06: Invalid UCD 'pos.errorEllipse;stat.max': Secondary word 'pos.errorEllipse' is not valid as a primary word [astropy.io.votable.tree]\n",
      "WARNING: W50: None:155:0: W50: Invalid unit string ''electron'.s**-1' [astropy.io.votable.tree]\n",
      "WARNING: W50: None:158:0: W50: Invalid unit string ''electron'.s**-1' [astropy.io.votable.tree]\n",
      "WARNING: W06: None:161:0: W06: Invalid UCD 'arith.ratio': Secondary word 'arith.ratio' is not valid as a primary word [astropy.io.votable.tree]\n",
      "WARNING: W50: None:170:0: W50: Invalid unit string ''electron'.s**-1' (suppressing further warnings of this type...) [astropy.io.votable.tree]\n",
      "WARNING: W06: None:176:0: W06: Invalid UCD 'arith.ratio': Secondary word 'arith.ratio' is not valid as a primary word [astropy.io.votable.tree]\n",
      "WARNING: W06: None:191:0: W06: Invalid UCD 'arith.ratio': Secondary word 'arith.ratio' is not valid as a primary word [astropy.io.votable.tree]\n",
      "WARNING: W06: None:203:0: W06: Invalid UCD 'phot.color': Unknown word 'phot.color' [astropy.io.votable.tree]\n",
      "WARNING: W06: None:206:0: W06: Invalid UCD 'phot.color': Unknown word 'phot.color' [astropy.io.votable.tree]\n",
      "WARNING: W06: None:209:0: W06: Invalid UCD 'phot.color': Unknown word 'phot.color' [astropy.io.votable.tree]\n",
      "WARNING: W06: None:281:0: W06: Invalid UCD 'phys.size.radius;stat.error': Primary word 'stat.error' is not valid as a secondary word (suppressing further warnings of this type...) [astropy.io.votable.tree]\n"
     ]
    }
   ],
   "source": [
    "#data = Gaia.load_data([str(id) for id in source_ids], retrieval_type='source_id')\n",
    "\n",
    "query = \"SELECT * FROM gaiadr2.gaia_source WHERE source_id IN ({})\".format(','.join(du_ids))\n",
    "print(query)\n",
    "\n",
    "job = Gaia.launch_job(query)"
   ]
  },
  {
   "cell_type": "code",
   "execution_count": 6,
   "metadata": {},
   "outputs": [],
   "source": [
    "data = job.get_results()\n",
    "data['source_id'] = data['source_id'].astype(int)\n",
    "data = data.to_pandas()\n",
    "\n",
    "data.to_pickle('du_data.pickle')"
   ]
  }
 ],
 "metadata": {
  "kernelspec": {
   "display_name": "Python [conda env:.conda-astro160-report]",
   "language": "python",
   "name": "conda-env-.conda-astro160-report-py"
  },
  "language_info": {
   "codemirror_mode": {
    "name": "ipython",
    "version": 3
   },
   "file_extension": ".py",
   "mimetype": "text/x-python",
   "name": "python",
   "nbconvert_exporter": "python",
   "pygments_lexer": "ipython3",
   "version": "3.5.6"
  }
 },
 "nbformat": 4,
 "nbformat_minor": 4
}
