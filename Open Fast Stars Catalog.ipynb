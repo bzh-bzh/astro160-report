{
 "cells": [
  {
   "cell_type": "code",
   "execution_count": 1,
   "metadata": {},
   "outputs": [
    {
     "name": "stdout",
     "output_type": "stream",
     "text": [
      "Populating the interactive namespace from numpy and matplotlib\n"
     ]
    }
   ],
   "source": [
    "import pandas as pd\n",
    "from astropy.coordinates import SkyCoord\n",
    "from astropy import units as u\n",
    "%pylab inline"
   ]
  },
  {
   "cell_type": "code",
   "execution_count": 2,
   "metadata": {},
   "outputs": [],
   "source": [
    "# Open Fast Stars Catalog described here: https://arxiv.org/abs/1804.10179\n",
    "open_fast_stars = pd.read_csv('The Open Fast Stars Catalog.csv')\n",
    "\n",
    "open_fast_stars[\"dL (kpc)\"] = pd.to_numeric(open_fast_stars[\"dL (kpc)\"].str.split(',', expand=True)[0])"
   ]
  },
  {
   "cell_type": "code",
   "execution_count": 3,
   "metadata": {},
   "outputs": [
    {
     "name": "stdout",
     "output_type": "stream",
     "text": [
      "558\n"
     ]
    },
    {
     "data": {
      "text/html": [
       "<div>\n",
       "<style scoped>\n",
       "    .dataframe tbody tr th:only-of-type {\n",
       "        vertical-align: middle;\n",
       "    }\n",
       "\n",
       "    .dataframe tbody tr th {\n",
       "        vertical-align: top;\n",
       "    }\n",
       "\n",
       "    .dataframe thead th {\n",
       "        text-align: right;\n",
       "    }\n",
       "</style>\n",
       "<table border=\"1\" class=\"dataframe\">\n",
       "  <thead>\n",
       "    <tr style=\"text-align: right;\">\n",
       "      <th></th>\n",
       "      <th>Name</th>\n",
       "      <th>Mmax</th>\n",
       "      <th>Color</th>\n",
       "      <th>Spec. Type</th>\n",
       "      <th>R.A.</th>\n",
       "      <th>Dec.</th>\n",
       "      <th>R.A.'</th>\n",
       "      <th>Dec.'</th>\n",
       "      <th>v☉</th>\n",
       "      <th>vgal</th>\n",
       "      <th>Pbound</th>\n",
       "      <th>dL (kpc)</th>\n",
       "    </tr>\n",
       "  </thead>\n",
       "  <tbody>\n",
       "    <tr>\n",
       "      <th>0</th>\n",
       "      <td>J1637+3631</td>\n",
       "      <td>-6.66241</td>\n",
       "      <td>-0.0147,-0.30379</td>\n",
       "      <td>NaN</td>\n",
       "      <td>16:37:12.2146</td>\n",
       "      <td>+36:31:55.8776</td>\n",
       "      <td>-18.496</td>\n",
       "      <td>64.253</td>\n",
       "      <td>284710</td>\n",
       "      <td>284883.00</td>\n",
       "      <td>0.000023</td>\n",
       "      <td>2.16067</td>\n",
       "    </tr>\n",
       "    <tr>\n",
       "      <th>1</th>\n",
       "      <td>J004330.06+405258.4</td>\n",
       "      <td>-21.77800</td>\n",
       "      <td>2.2193</td>\n",
       "      <td>M2</td>\n",
       "      <td>00:43:30.06,00:43:30.0752</td>\n",
       "      <td>+40:52:58.4,+40:52:58.0831</td>\n",
       "      <td>0.304</td>\n",
       "      <td>-0.734</td>\n",
       "      <td>-630</td>\n",
       "      <td>2928.91</td>\n",
       "      <td>0.000023</td>\n",
       "      <td>695.84400</td>\n",
       "    </tr>\n",
       "    <tr>\n",
       "      <th>2</th>\n",
       "      <td>D6-1</td>\n",
       "      <td>-9.77065</td>\n",
       "      <td>0.4674</td>\n",
       "      <td>NaN</td>\n",
       "      <td>16:37:31.674,16:37:31.674</td>\n",
       "      <td>-74:20:36.5949,-74:20:36.5949</td>\n",
       "      <td>-80.253</td>\n",
       "      <td>-195.910</td>\n",
       "      <td>1200</td>\n",
       "      <td>2467.26</td>\n",
       "      <td>0.000023</td>\n",
       "      <td>2.37819</td>\n",
       "    </tr>\n",
       "    <tr>\n",
       "      <th>3</th>\n",
       "      <td>D6-3</td>\n",
       "      <td>-8.88202</td>\n",
       "      <td>0.4084</td>\n",
       "      <td>NaN</td>\n",
       "      <td>18:52:01.885,18:52:01.885</td>\n",
       "      <td>+62:02:10.2031,+62:02:10.2031</td>\n",
       "      <td>8.981</td>\n",
       "      <td>211.455</td>\n",
       "      <td>-20</td>\n",
       "      <td>2341.28</td>\n",
       "      <td>0.000023</td>\n",
       "      <td>2.35787</td>\n",
       "    </tr>\n",
       "    <tr>\n",
       "      <th>4</th>\n",
       "      <td>S5-HVS1</td>\n",
       "      <td>-13.67920</td>\n",
       "      <td>-0.0083</td>\n",
       "      <td>NaN</td>\n",
       "      <td>22:54:51.6829</td>\n",
       "      <td>-51:11:44.1876</td>\n",
       "      <td>35.328</td>\n",
       "      <td>0.588</td>\n",
       "      <td>1017</td>\n",
       "      <td>1693.46</td>\n",
       "      <td>0.000023</td>\n",
       "      <td>8.63488</td>\n",
       "    </tr>\n",
       "  </tbody>\n",
       "</table>\n",
       "</div>"
      ],
      "text/plain": [
       "                  Name      Mmax             Color Spec. Type  \\\n",
       "0           J1637+3631  -6.66241  -0.0147,-0.30379        NaN   \n",
       "1  J004330.06+405258.4 -21.77800            2.2193         M2   \n",
       "2                 D6-1  -9.77065            0.4674        NaN   \n",
       "3                 D6-3  -8.88202            0.4084        NaN   \n",
       "4              S5-HVS1 -13.67920           -0.0083        NaN   \n",
       "\n",
       "                        R.A.                           Dec.   R.A.'    Dec.'  \\\n",
       "0              16:37:12.2146                 +36:31:55.8776 -18.496   64.253   \n",
       "1  00:43:30.06,00:43:30.0752     +40:52:58.4,+40:52:58.0831   0.304   -0.734   \n",
       "2  16:37:31.674,16:37:31.674  -74:20:36.5949,-74:20:36.5949 -80.253 -195.910   \n",
       "3  18:52:01.885,18:52:01.885  +62:02:10.2031,+62:02:10.2031   8.981  211.455   \n",
       "4              22:54:51.6829                 -51:11:44.1876  35.328    0.588   \n",
       "\n",
       "       v☉       vgal    Pbound   dL (kpc)  \n",
       "0  284710  284883.00  0.000023    2.16067  \n",
       "1    -630    2928.91  0.000023  695.84400  \n",
       "2    1200    2467.26  0.000023    2.37819  \n",
       "3     -20    2341.28  0.000023    2.35787  \n",
       "4    1017    1693.46  0.000023    8.63488  "
      ]
     },
     "execution_count": 3,
     "metadata": {},
     "output_type": "execute_result"
    }
   ],
   "source": [
    "print(len(open_fast_stars))\n",
    "\n",
    "open_fast_stars.head()"
   ]
  },
  {
   "cell_type": "code",
   "execution_count": 4,
   "metadata": {},
   "outputs": [
    {
     "name": "stdout",
     "output_type": "stream",
     "text": [
      "<SkyCoord (ICRS): (ra, dec, distance) in (deg, deg, kpc)\n",
      "    [(249.30089417,  36.53218822,   2.16067 ),\n",
      "     ( 10.87525   ,  40.88288889, 695.844   ),\n",
      "     (249.381975  , -74.34349858,   2.37819 ),\n",
      "     (283.00785417,  62.03616753,   2.35787 ),\n",
      "     (343.71534542, -51.19560767,   8.63488 ),\n",
      "     (175.4435    ,   4.70480278,  85.0018  ),\n",
      "     (210.35946833, -45.40153686,   5.11053 ),\n",
      "     (324.61248833,  25.3737115 ,   0.985965),\n",
      "     (173.82395833,   8.03374722,  97.8487  ),\n",
      "     (312.50908375,  24.01328328,   1.49775 )]>\n"
     ]
    }
   ],
   "source": [
    "skycoords = SkyCoord(open_fast_stars[\"R.A.\"].str.split(',', expand=True)[0], open_fast_stars[\"Dec.\"].str.split(',', expand=True)[0], distance=open_fast_stars[\"dL (kpc)\"], unit=(u.hourangle, u.deg, u.kpc))\n",
    "\n",
    "print(skycoords[:10])"
   ]
  },
  {
   "cell_type": "code",
   "execution_count": 5,
   "metadata": {},
   "outputs": [
    {
     "data": {
      "text/html": [
       "<div>\n",
       "<style scoped>\n",
       "    .dataframe tbody tr th:only-of-type {\n",
       "        vertical-align: middle;\n",
       "    }\n",
       "\n",
       "    .dataframe tbody tr th {\n",
       "        vertical-align: top;\n",
       "    }\n",
       "\n",
       "    .dataframe thead th {\n",
       "        text-align: right;\n",
       "    }\n",
       "</style>\n",
       "<table border=\"1\" class=\"dataframe\">\n",
       "  <thead>\n",
       "    <tr style=\"text-align: right;\">\n",
       "      <th></th>\n",
       "      <th>Name</th>\n",
       "      <th>Mmax</th>\n",
       "      <th>Color</th>\n",
       "      <th>Spec. Type</th>\n",
       "      <th>R.A.</th>\n",
       "      <th>Dec.</th>\n",
       "      <th>R.A.'</th>\n",
       "      <th>Dec.'</th>\n",
       "      <th>v☉</th>\n",
       "      <th>vgal</th>\n",
       "      <th>Pbound</th>\n",
       "      <th>dL (kpc)</th>\n",
       "      <th>skycoords</th>\n",
       "    </tr>\n",
       "  </thead>\n",
       "  <tbody>\n",
       "    <tr>\n",
       "      <th>0</th>\n",
       "      <td>J1637+3631</td>\n",
       "      <td>-6.66241</td>\n",
       "      <td>-0.0147,-0.30379</td>\n",
       "      <td>NaN</td>\n",
       "      <td>16:37:12.2146</td>\n",
       "      <td>+36:31:55.8776</td>\n",
       "      <td>-18.496</td>\n",
       "      <td>64.253</td>\n",
       "      <td>284710</td>\n",
       "      <td>284883.00</td>\n",
       "      <td>0.000023</td>\n",
       "      <td>2.16067</td>\n",
       "      <td>&lt;SkyCoord (ICRS): (ra, dec, distance) in (deg,...</td>\n",
       "    </tr>\n",
       "    <tr>\n",
       "      <th>1</th>\n",
       "      <td>J004330.06+405258.4</td>\n",
       "      <td>-21.77800</td>\n",
       "      <td>2.2193</td>\n",
       "      <td>M2</td>\n",
       "      <td>00:43:30.06,00:43:30.0752</td>\n",
       "      <td>+40:52:58.4,+40:52:58.0831</td>\n",
       "      <td>0.304</td>\n",
       "      <td>-0.734</td>\n",
       "      <td>-630</td>\n",
       "      <td>2928.91</td>\n",
       "      <td>0.000023</td>\n",
       "      <td>695.84400</td>\n",
       "      <td>&lt;SkyCoord (ICRS): (ra, dec, distance) in (deg,...</td>\n",
       "    </tr>\n",
       "    <tr>\n",
       "      <th>2</th>\n",
       "      <td>D6-1</td>\n",
       "      <td>-9.77065</td>\n",
       "      <td>0.4674</td>\n",
       "      <td>NaN</td>\n",
       "      <td>16:37:31.674,16:37:31.674</td>\n",
       "      <td>-74:20:36.5949,-74:20:36.5949</td>\n",
       "      <td>-80.253</td>\n",
       "      <td>-195.910</td>\n",
       "      <td>1200</td>\n",
       "      <td>2467.26</td>\n",
       "      <td>0.000023</td>\n",
       "      <td>2.37819</td>\n",
       "      <td>&lt;SkyCoord (ICRS): (ra, dec, distance) in (deg,...</td>\n",
       "    </tr>\n",
       "    <tr>\n",
       "      <th>3</th>\n",
       "      <td>D6-3</td>\n",
       "      <td>-8.88202</td>\n",
       "      <td>0.4084</td>\n",
       "      <td>NaN</td>\n",
       "      <td>18:52:01.885,18:52:01.885</td>\n",
       "      <td>+62:02:10.2031,+62:02:10.2031</td>\n",
       "      <td>8.981</td>\n",
       "      <td>211.455</td>\n",
       "      <td>-20</td>\n",
       "      <td>2341.28</td>\n",
       "      <td>0.000023</td>\n",
       "      <td>2.35787</td>\n",
       "      <td>&lt;SkyCoord (ICRS): (ra, dec, distance) in (deg,...</td>\n",
       "    </tr>\n",
       "    <tr>\n",
       "      <th>4</th>\n",
       "      <td>S5-HVS1</td>\n",
       "      <td>-13.67920</td>\n",
       "      <td>-0.0083</td>\n",
       "      <td>NaN</td>\n",
       "      <td>22:54:51.6829</td>\n",
       "      <td>-51:11:44.1876</td>\n",
       "      <td>35.328</td>\n",
       "      <td>0.588</td>\n",
       "      <td>1017</td>\n",
       "      <td>1693.46</td>\n",
       "      <td>0.000023</td>\n",
       "      <td>8.63488</td>\n",
       "      <td>&lt;SkyCoord (ICRS): (ra, dec, distance) in (deg,...</td>\n",
       "    </tr>\n",
       "  </tbody>\n",
       "</table>\n",
       "</div>"
      ],
      "text/plain": [
       "                  Name      Mmax             Color Spec. Type  \\\n",
       "0           J1637+3631  -6.66241  -0.0147,-0.30379        NaN   \n",
       "1  J004330.06+405258.4 -21.77800            2.2193         M2   \n",
       "2                 D6-1  -9.77065            0.4674        NaN   \n",
       "3                 D6-3  -8.88202            0.4084        NaN   \n",
       "4              S5-HVS1 -13.67920           -0.0083        NaN   \n",
       "\n",
       "                        R.A.                           Dec.   R.A.'    Dec.'  \\\n",
       "0              16:37:12.2146                 +36:31:55.8776 -18.496   64.253   \n",
       "1  00:43:30.06,00:43:30.0752     +40:52:58.4,+40:52:58.0831   0.304   -0.734   \n",
       "2  16:37:31.674,16:37:31.674  -74:20:36.5949,-74:20:36.5949 -80.253 -195.910   \n",
       "3  18:52:01.885,18:52:01.885  +62:02:10.2031,+62:02:10.2031   8.981  211.455   \n",
       "4              22:54:51.6829                 -51:11:44.1876  35.328    0.588   \n",
       "\n",
       "       v☉       vgal    Pbound   dL (kpc)  \\\n",
       "0  284710  284883.00  0.000023    2.16067   \n",
       "1    -630    2928.91  0.000023  695.84400   \n",
       "2    1200    2467.26  0.000023    2.37819   \n",
       "3     -20    2341.28  0.000023    2.35787   \n",
       "4    1017    1693.46  0.000023    8.63488   \n",
       "\n",
       "                                           skycoords  \n",
       "0  <SkyCoord (ICRS): (ra, dec, distance) in (deg,...  \n",
       "1  <SkyCoord (ICRS): (ra, dec, distance) in (deg,...  \n",
       "2  <SkyCoord (ICRS): (ra, dec, distance) in (deg,...  \n",
       "3  <SkyCoord (ICRS): (ra, dec, distance) in (deg,...  \n",
       "4  <SkyCoord (ICRS): (ra, dec, distance) in (deg,...  "
      ]
     },
     "execution_count": 5,
     "metadata": {},
     "output_type": "execute_result"
    }
   ],
   "source": [
    "open_fast_stars['skycoords'] = skycoords\n",
    "open_fast_stars.head()"
   ]
  },
  {
   "cell_type": "code",
   "execution_count": 6,
   "metadata": {},
   "outputs": [
    {
     "name": "stdout",
     "output_type": "stream",
     "text": [
      "47\n"
     ]
    }
   ],
   "source": [
    "# All stars that have P_bound < 0.1\n",
    "ninety_percent_unbound = open_fast_stars[open_fast_stars.Pbound < 0.1]\n",
    "print(len(ninety_percent_unbound))"
   ]
  },
  {
   "cell_type": "code",
   "execution_count": 7,
   "metadata": {},
   "outputs": [
    {
     "data": {
      "image/png": "[encoded data removed]",
      "text/plain": [
       "<Figure size 432x288 with 1 Axes>"
      ]
     },
     "metadata": {
      "needs_background": "light"
     },
     "output_type": "display_data"
    }
   ],
   "source": [
    "# Make a color-magnitude diagram.\n",
    "fig = plt.figure()\n",
    "ax = plt.gca()\n",
    "ax.scatter(ninety_percent_unbound.Color, ninety_percent_unbound.Mmax)\n",
    "ax.set_xscale('log')"
   ]
  },
  {
   "cell_type": "code",
   "execution_count": null,
   "metadata": {},
   "outputs": [],
   "source": []
  }
 ],
 "metadata": {
  "kernelspec": {
   "display_name": "Python [conda env:.conda-astro160-report]",
   "language": "python",
   "name": "conda-env-.conda-astro160-report-py"
  },
  "language_info": {
   "codemirror_mode": {
    "name": "ipython",
    "version": 3
   },
   "file_extension": ".py",
   "mimetype": "text/x-python",
   "name": "python",
   "nbconvert_exporter": "python",
   "pygments_lexer": "ipython3",
   "version": "3.5.6"
  }
 },
 "nbformat": 4,
 "nbformat_minor": 4
}
