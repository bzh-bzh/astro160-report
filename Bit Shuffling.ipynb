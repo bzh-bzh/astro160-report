{
 "cells": [
  {
   "cell_type": "code",
   "execution_count": 47,
   "metadata": {},
   "outputs": [],
   "source": [
    "from astroquery.gaia import Gaia\n",
    "from astropy.io import fits\n",
    "import pandas as pd"
   ]
  },
  {
   "cell_type": "code",
   "execution_count": 57,
   "metadata": {},
   "outputs": [],
   "source": [
    "du_table = {\n",
    "    # HVS candidates from Du et al.\n",
    "    # First dict entry is r_gc (kpc), second is v_gc (km/s).\n",
    "    6698855754225352192: (6.44, 717),\n",
    "    3593446274383096448: (8.77, 734),\n",
    "    4119670443586493184: (7.93, 670),\n",
    "    1842456376310935552: (7.87, 824),\n",
    "    4396109004117478656: (7.81, 728),\n",
    "    4912074832815572224: (8.14, 756),\n",
    "    4119759641435130624: (7.96, 663),\n",
    "    4065092915465740160: (8.03, 621),\n",
    "    2946665465655257472: (10.65, 810),\n",
    "    4467323685050696960: (6.39, 819),\n",
    "    3841458366321558656: (9.77, 840),\n",
    "    2655054950237153664: (8.07, 621),\n",
    "    4062943374550066560: (8.09, 589),\n",
    "    4121504428896960640: (8.08, 648),\n",
    "    2047267531138612864: (7.78, 748),\n",
    "    4050754184394584192: (7.92, 656),\n",
    "    2525871954701579904: (8.34, 636),\n",
    "    3685380427311132160: (7.91, 761),\n",
    "    4050705707044344832: (7.96, 685),\n",
    "    4052470217026086144: (8.0, 772),\n",
    "    4055741088022263680: (7.51, 751),\n",
    "    4057367235624058240: (8.0, 711),\n",
    "    4062949009547937152: (7.71, 708),\n",
    "    4063041295654767488: (7.91, 1142),\n",
    "    4063270135632421888: (7.96, 751),\n",
    "    4068950625022563584: (8.14, 611),\n",
    "    1820931585123817728: (7.3, 1319),\n",
    "    6097052289696317952: (6.0, 1407),\n",
    "}\n",
    "\n",
    "du_ids = [str(id) for id in du_table.keys()]"
   ]
  },
  {
   "cell_type": "code",
   "execution_count": 58,
   "metadata": {},
   "outputs": [
    {
     "name": "stdout",
     "output_type": "stream",
     "text": [
      "SELECT * FROM gaiadr2.gaia_source WHERE source_id IN (1842456376310935552,3593446274383096448,6698855754225352192,4063270135632421888,4050705707044344832,3841458366321558656,4052470217026086144,4912074832815572224,4065092915465740160,4062943374550066560,6097052289696317952,3685380427311132160,2525871954701579904,4121504428896960640,4055741088022263680,4396109004117478656,4062949009547937152,4050754184394584192,4467323685050696960,2946665465655257472,4068950625022563584,4063041295654767488,1820931585123817728,2047267531138612864,2655054950237153664,4119670443586493184,4057367235624058240,4119759641435130624)\n"
     ]
    },
    {
     "name": "stderr",
     "output_type": "stream",
     "text": [
      "WARNING: W35: None:5:0: W35: 'value' attribute required for INFO elements [astropy.io.votable.tree]\n",
      "WARNING: W35: None:6:0: W35: 'value' attribute required for INFO elements [astropy.io.votable.tree]\n",
      "WARNING: W35: None:7:0: W35: 'value' attribute required for INFO elements [astropy.io.votable.tree]\n",
      "WARNING: W35: None:8:0: W35: 'value' attribute required for INFO elements [astropy.io.votable.tree]\n",
      "WARNING: W35: None:10:0: W35: 'value' attribute required for INFO elements [astropy.io.votable.tree]\n",
      "WARNING: W27: None:11:0: W27: COOSYS deprecated in VOTable 1.2 [astropy.io.votable.tree]\n",
      "WARNING: W06: None:47:0: W06: Invalid UCD 'arith.ratio': Secondary word 'arith.ratio' is not valid as a primary word [astropy.io.votable.tree]\n",
      "WARNING: W50: None:50:0: W50: Invalid unit string 'mas.yr**-1' [astropy.io.votable.tree]\n",
      "WARNING: W50: None:53:0: W50: Invalid unit string 'mas.yr**-1' [astropy.io.votable.tree]\n",
      "WARNING: W50: None:56:0: W50: Invalid unit string 'mas.yr**-1' [astropy.io.votable.tree]\n",
      "WARNING: W50: None:59:0: W50: Invalid unit string 'mas.yr**-1' [astropy.io.votable.tree]\n",
      "WARNING: W50: None:122:0: W50: Invalid unit string 'mas**-2' [astropy.io.votable.tree]\n",
      "WARNING: W50: None:125:0: W50: Invalid unit string 'um**-1' [astropy.io.votable.tree]\n",
      "WARNING: W06: None:128:0: W06: Invalid UCD 'em.wavenumber;stat.error': Primary word 'stat.error' is not valid as a secondary word [astropy.io.votable.tree]\n",
      "WARNING: W50: None:128:0: W50: Invalid unit string 'um**-1' [astropy.io.votable.tree]\n",
      "WARNING: W06: None:140:0: W06: Invalid UCD 'pos.errorEllipse;stat.max': Secondary word 'pos.errorEllipse' is not valid as a primary word [astropy.io.votable.tree]\n",
      "WARNING: W50: None:155:0: W50: Invalid unit string ''electron'.s**-1' [astropy.io.votable.tree]\n",
      "WARNING: W50: None:158:0: W50: Invalid unit string ''electron'.s**-1' [astropy.io.votable.tree]\n",
      "WARNING: W06: None:161:0: W06: Invalid UCD 'arith.ratio': Secondary word 'arith.ratio' is not valid as a primary word [astropy.io.votable.tree]\n",
      "WARNING: W50: None:170:0: W50: Invalid unit string ''electron'.s**-1' (suppressing further warnings of this type...) [astropy.io.votable.tree]\n",
      "WARNING: W06: None:176:0: W06: Invalid UCD 'arith.ratio': Secondary word 'arith.ratio' is not valid as a primary word [astropy.io.votable.tree]\n",
      "WARNING: W06: None:191:0: W06: Invalid UCD 'arith.ratio': Secondary word 'arith.ratio' is not valid as a primary word [astropy.io.votable.tree]\n",
      "WARNING: W06: None:203:0: W06: Invalid UCD 'phot.color': Unknown word 'phot.color' [astropy.io.votable.tree]\n",
      "WARNING: W06: None:206:0: W06: Invalid UCD 'phot.color': Unknown word 'phot.color' [astropy.io.votable.tree]\n",
      "WARNING: W06: None:209:0: W06: Invalid UCD 'phot.color': Unknown word 'phot.color' [astropy.io.votable.tree]\n",
      "WARNING: W06: None:281:0: W06: Invalid UCD 'phys.size.radius;stat.error': Primary word 'stat.error' is not valid as a secondary word (suppressing further warnings of this type...) [astropy.io.votable.tree]\n"
     ]
    }
   ],
   "source": [
    "#data = Gaia.load_data([str(id) for id in source_ids], retrieval_type='source_id')\n",
    "\n",
    "query = \"SELECT * FROM gaiadr2.gaia_source WHERE source_id IN ({})\".format(','.join(du_ids))\n",
    "print(query)\n",
    "\n",
    "job = Gaia.launch_job(query)"
   ]
  },
  {
   "cell_type": "code",
   "execution_count": 104,
   "metadata": {},
   "outputs": [],
   "source": [
    "data = job.get_results()\n",
    "data['source_id'] = data['source_id'].astype(int)\n",
    "data = data.to_pandas()\n",
    "\n",
    "# Augment the data with galactic center distances and velocities.\n",
    "\n",
    "data['gc_radius_corrected'] = 0\n",
    "data['gc_velocity_corrected'] = 0\n",
    "\n",
    "for source_id in du_table:\n",
    "    data.loc[data.source_id == source_id, 'gc_radius_corrected'] = du_table[source_id][0]\n",
    "    data.loc[data.source_id == source_id, 'gc_velocity_corrected'] = du_table[source_id][1]"
   ]
  },
  {
   "cell_type": "code",
   "execution_count": 105,
   "metadata": {},
   "outputs": [
    {
     "data": {
      "text/plain": [
       "Index(['solution_id', 'designation', 'source_id', 'random_index', 'ref_epoch',\n",
       "       'ra', 'ra_error', 'dec', 'dec_error', 'parallax', 'parallax_error',\n",
       "       'parallax_over_error', 'pmra', 'pmra_error', 'pmdec', 'pmdec_error',\n",
       "       'ra_dec_corr', 'ra_parallax_corr', 'ra_pmra_corr', 'ra_pmdec_corr',\n",
       "       'dec_parallax_corr', 'dec_pmra_corr', 'dec_pmdec_corr',\n",
       "       'parallax_pmra_corr', 'parallax_pmdec_corr', 'pmra_pmdec_corr',\n",
       "       'astrometric_n_obs_al', 'astrometric_n_obs_ac',\n",
       "       'astrometric_n_good_obs_al', 'astrometric_n_bad_obs_al',\n",
       "       'astrometric_gof_al', 'astrometric_chi2_al', 'astrometric_excess_noise',\n",
       "       'astrometric_excess_noise_sig', 'astrometric_params_solved',\n",
       "       'astrometric_primary_flag', 'astrometric_weight_al',\n",
       "       'astrometric_pseudo_colour', 'astrometric_pseudo_colour_error',\n",
       "       'mean_varpi_factor_al', 'astrometric_matched_observations',\n",
       "       'visibility_periods_used', 'astrometric_sigma5d_max',\n",
       "       'frame_rotator_object_type', 'matched_observations',\n",
       "       'duplicated_source', 'phot_g_n_obs', 'phot_g_mean_flux',\n",
       "       'phot_g_mean_flux_error', 'phot_g_mean_flux_over_error',\n",
       "       'phot_g_mean_mag', 'phot_bp_n_obs', 'phot_bp_mean_flux',\n",
       "       'phot_bp_mean_flux_error', 'phot_bp_mean_flux_over_error',\n",
       "       'phot_bp_mean_mag', 'phot_rp_n_obs', 'phot_rp_mean_flux',\n",
       "       'phot_rp_mean_flux_error', 'phot_rp_mean_flux_over_error',\n",
       "       'phot_rp_mean_mag', 'phot_bp_rp_excess_factor', 'phot_proc_mode',\n",
       "       'bp_rp', 'bp_g', 'g_rp', 'radial_velocity', 'radial_velocity_error',\n",
       "       'rv_nb_transits', 'rv_template_teff', 'rv_template_logg',\n",
       "       'rv_template_fe_h', 'phot_variable_flag', 'l', 'b', 'ecl_lon',\n",
       "       'ecl_lat', 'priam_flags', 'teff_val', 'teff_percentile_lower',\n",
       "       'teff_percentile_upper', 'a_g_val', 'a_g_percentile_lower',\n",
       "       'a_g_percentile_upper', 'e_bp_min_rp_val',\n",
       "       'e_bp_min_rp_percentile_lower', 'e_bp_min_rp_percentile_upper',\n",
       "       'flame_flags', 'radius_val', 'radius_percentile_lower',\n",
       "       'radius_percentile_upper', 'lum_val', 'lum_percentile_lower',\n",
       "       'lum_percentile_upper', 'datalink_url', 'epoch_photometry_url',\n",
       "       'gc_radius_corrected', 'gc_velocity_corrected'],\n",
       "      dtype='object')"
      ]
     },
     "execution_count": 105,
     "metadata": {},
     "output_type": "execute_result"
    }
   ],
   "source": [
    "data.columns"
   ]
  },
  {
   "cell_type": "code",
   "execution_count": 107,
   "metadata": {},
   "outputs": [
    {
     "data": {
      "text/plain": [
       "0      7.30\n",
       "1      7.87\n",
       "2      7.78\n",
       "3      8.34\n",
       "4      8.07\n",
       "5     10.65\n",
       "6      8.77\n",
       "7      7.91\n",
       "8      9.77\n",
       "9      7.96\n",
       "10     7.92\n",
       "11     8.00\n",
       "12     7.51\n",
       "13     8.00\n",
       "14     8.09\n",
       "15     7.71\n",
       "16     7.91\n",
       "17     7.96\n",
       "18     8.03\n",
       "19     8.14\n",
       "20     7.93\n",
       "21     7.96\n",
       "22     8.08\n",
       "23     7.81\n",
       "24     6.39\n",
       "25     8.14\n",
       "26     6.00\n",
       "27     6.44\n",
       "Name: gc_radius_corrected, dtype: float64"
      ]
     },
     "execution_count": 107,
     "metadata": {},
     "output_type": "execute_result"
    }
   ],
   "source": [
    "data['gc_radius_corrected']"
   ]
  },
  {
   "cell_type": "code",
   "execution_count": null,
   "metadata": {},
   "outputs": [],
   "source": []
  }
 ],
 "metadata": {
  "kernelspec": {
   "display_name": "Python [conda env:.conda-astro160-report]",
   "language": "python",
   "name": "conda-env-.conda-astro160-report-py"
  },
  "language_info": {
   "codemirror_mode": {
    "name": "ipython",
    "version": 3
   },
   "file_extension": ".py",
   "mimetype": "text/x-python",
   "name": "python",
   "nbconvert_exporter": "python",
   "pygments_lexer": "ipython3",
   "version": "3.5.6"
  }
 },
 "nbformat": 4,
 "nbformat_minor": 4
}
